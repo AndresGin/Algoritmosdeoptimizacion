{
 "cells": [
  {
   "cell_type": "markdown",
   "metadata": {
    "id": "hVbXYX-RfPWh"
   },
   "source": [
    "# Algoritmos de optimización - Seminario<br>\n",
    "Nombre y Apellidos:  ANDRES ILLESCAS FERNANDEZ <br>\n",
    "Url: https://github.com/AndresGin/Algoritmosdeoptimizacion.git<br>\n",
    "Problema:\n",
    "\n",
    "## Combinar cifras y operaciones\n",
    "\n",
    "El problema consiste en analizar el siguiente problema y diseñar un algoritmo que lo resuelva.\n",
    "\n",
    "- Disponemos de las 9 cifras del 1 al 9 (excluimos el cero) y de los 4 signos básicos de las operaciones fundamentales: suma(+), resta(-), multiplicación(*) y división(/)\n",
    "\n",
    "- Debemos combinarlos alternativamente sin repetir ninguno de ellos para obtener una cantidad dada. Un ejemplo sería para obtener el 4: 4+2-6/3*1 = 4\n",
    "\n",
    "Debe analizarse el problema para encontrar todos los valores enteros posibles planteando las siguientes cuestiones:\n",
    "\n",
    "- ¿Qué valor máximo y mínimo se pueden obtener según las condiciones del problema?\n",
    "- ¿Es posible encontrar todos los valores enteros posibles entre dicho mínimo y máximo ?\n",
    "-  Nota: Es posible usar la función de python “eval” para evaluar una expresión:\n",
    "\n",
    "\n",
    "                                        "
   ]
  },
  {
   "cell_type": "markdown",
   "metadata": {
    "id": "WfCUqJyKhPcw"
   },
   "source": [
    "## ¿Qué valor máximo y mínimo se pueden obtener según las condiciones del problema?"
   ]
  },
  {
   "cell_type": "markdown",
   "metadata": {
    "id": "WfCUqJyKhPcw"
   },
   "source": [
    "Respuesta"
   ]
  },
  {
   "cell_type": "markdown",
   "metadata": {
    "id": "AiskKkzZfy4e"
   },
   "source": [
    "\n"
   ]
  },
  {
   "cell_type": "markdown",
   "metadata": {
    "id": "WfCUqJyKhPcw"
   },
   "source": [
    "Para abordar este problema, debemos considerar todas las posibles permutaciones de los números del 1 al 9 y combinarlas con los signos de operación alternando operaciones y números. Además, debemos tener en cuenta las reglas de prioridad de las operaciones matemáticas (multiplicación y división antes de suma y resta) y que no se pueden repetir números ni signos de operación.\n",
    "\n",
    "\n",
    "* Permutaciones de Números:\n",
    "\n",
    "Generar todas las permutaciones posibles de los números del 1 al 9.\n",
    "\n",
    "* Permutaciones de Operaciones:\n",
    "\n",
    "Generar todas las combinaciones posibles de los cuatro signos de operaciones (sin repetición).\n",
    "\n",
    "* Construcción de Expresiones:\n",
    "\n",
    "Combinar cada permutación de números con cada permutación de operaciones, respetando la alternancia (número-operación-número).\n",
    "\n",
    "* Evaluación de Expresiones:\n",
    "\n",
    "Evaluar cada expresión respetando la precedencia de las operaciones.\n",
    "Registrar los valores obtenidos para determinar el mínimo y el máximo.\n",
    "\n",
    "### Implementación\n",
    "\n",
    "Debido a la gran cantidad de combinaciones posibles, es recomendable utilizar un enfoque programático para evaluar todas las posibilidades. A continuación, se presenta una implementación en Python para encontrar los valores mínimo y máximo:"
   ]
  },
  {
   "cell_type": "code",
   "execution_count": 18,
   "metadata": {
    "id": "WfCUqJyKhPcw"
   },
   "outputs": [],
   "source": [
    "# NLibrerias y colecciones\n",
    "import itertools\n",
    "import random\n",
    "import math\n",
    "from functools import lru_cache"
   ]
  },
  {
   "cell_type": "code",
   "execution_count": 2,
   "metadata": {
    "id": "iq6Fe32MgpDX"
   },
   "outputs": [
    {
     "name": "stdout",
     "output_type": "stream",
     "text": [
      "Valor Minimo:  -69\n",
      "Valor Maximo:  77\n"
     ]
    }
   ],
   "source": [
    "# Números del 1 al 9\n",
    "numeros = [1, 2, 3, 4, 5, 6, 7, 8, 9]\n",
    "\n",
    "# Operaciones básicas\n",
    "operaciones = ['+', '-', '*', '/']\n",
    "\n",
    "# Generar todas las permutaciones de los números y operaciones\n",
    "permutaciones_numeros = list(itertools.permutations(numeros))\n",
    "permutaciones_operaciones = list(itertools.permutations(operaciones, 4))\n",
    "\n",
    "# Función para evaluar una expresión dada\n",
    "def evaluar_expresion(numeros, operaciones):\n",
    "    expresion = \"\"\n",
    "    for i in range(len(operaciones)):\n",
    "        expresion += str(numeros[i]) + operaciones[i]\n",
    "    expresion += str(numeros[-1])\n",
    "    try:\n",
    "        return eval(expresion)\n",
    "    except ZeroDivisionError:\n",
    "        return None\n",
    "\n",
    "# Encontrar el valor mínimo y máximo\n",
    "valores = []\n",
    "for perm_numeros in permutaciones_numeros:\n",
    "    for perm_operaciones in permutaciones_operaciones:\n",
    "        valor = evaluar_expresion(perm_numeros, perm_operaciones)\n",
    "        if valor is not None and valor == int(valor):\n",
    "            valores.append(int(valor))\n",
    "\n",
    "valor_minimo = min(valores)\n",
    "valor_maximo = max(valores)\n",
    "\n",
    "print(\"Valor Minimo: \", valor_minimo)\n",
    "print(\"Valor Maximo: \",valor_maximo)"
   ]
  },
  {
   "cell_type": "markdown",
   "metadata": {
    "id": "WfCUqJyKhPcw"
   },
   "source": [
    "## ¿Es posible encontrar todos los valores enteros posibles entre dicho mínimo y máximo ?"
   ]
  },
  {
   "cell_type": "markdown",
   "metadata": {
    "id": "WfCUqJyKhPcw"
   },
   "source": [
    "* Explicación del Código\n",
    "\n",
    "Importar itertools: Se importa itertools para generar permutaciones.\n",
    "\n",
    "Definir números y operaciones: Se definen los números del 1 al 9 y las operaciones básicas.\n",
    "\n",
    "Generar permutaciones: Se generan todas las permutaciones posibles de números y operaciones.\n",
    "\n",
    "Evaluar expresiones: Se construyen y evalúan expresiones para cada combinación de permutaciones de números y operaciones.\n",
    "\n",
    "Filtrar y almacenar valores enteros: Se almacenan en un conjunto los valores que son enteros para evitar duplicados.\n",
    "\n",
    "Ordenar y mostrar los valores enteros: Se ordenan los valores enteros obtenidos y se muestran en pantalla."
   ]
  },
  {
   "cell_type": "code",
   "execution_count": 3,
   "metadata": {
    "id": "WfCUqJyKhPcw"
   },
   "outputs": [
    {
     "name": "stdout",
     "output_type": "stream",
     "text": [
      "Todos los valores enteros posibles obtenidos son:\n",
      "-69, -68, -67, -66, -65, -64, -63, -62, -61, -60, -59, -58, -57, -56, -55, -54, -53, -52, -51, -50, -49, -48, -47, -46, -45, -44, -43, -42, -41, -40, -39, -38, -37, -36, -35, -34, -33, -32, -31, -30, -29, -28, -27, -26, -25, -24, -23, -22, -21, -20, -19, -18, -17, -16, -15, -14, -13, -12, -11, -10, -9, -8, -7, -6, -5, -4, -3, -2, -1, 0, 1, 2, 3, 4, 5, 6, 7, 8, 9, 10, 11, 12, 13, 14, 15, 16, 17, 18, 19, 20, 21, 22, 23, 24, 25, 26, 27, 28, 29, 30, 31, 32, 33, 34, 35, 36, 37, 38, 39, 40, 41, 42, 43, 44, 45, 46, 47, 48, 49, 50, 51, 52, 53, 54, 55, 56, 57, 58, 59, 60, 61, 62, 63, 64, 65, 66, 67, 68, 69, 70, 71, 72, 73, 74, 75, 76, 77\n",
      "Conteo total de valores únicos: 147\n"
     ]
    }
   ],
   "source": [
    "# Números del 1 al 9\n",
    "numeros = [1, 2, 3, 4, 5, 6, 7, 8, 9]\n",
    "\n",
    "# Operaciones básicas\n",
    "operaciones = ['+', '-', '*', '/']\n",
    "\n",
    "# Generar todas las permutaciones de los números y operaciones\n",
    "permutaciones_numeros = list(itertools.permutations(numeros))\n",
    "permutaciones_operaciones = list(itertools.permutations(operaciones, 4))\n",
    "\n",
    "# Función para evaluar una expresión dada\n",
    "def evaluar_expresion(numeros, operaciones):\n",
    "    expresion = \"\"\n",
    "    for i in range(len(operaciones)):\n",
    "        expresion += str(numeros[i]) + operaciones[i]\n",
    "    expresion += str(numeros[-1])\n",
    "    try:\n",
    "        return eval(expresion)\n",
    "    except ZeroDivisionError:\n",
    "        return None\n",
    "\n",
    "# Encontrar todos los valores enteros posibles\n",
    "valores = set()\n",
    "for perm_numeros in permutaciones_numeros:\n",
    "    for perm_operaciones in permutaciones_operaciones:\n",
    "        valor = evaluar_expresion(perm_numeros, perm_operaciones)\n",
    "        if valor is not None and valor == int(valor):\n",
    "            valores.add(int(valor))\n",
    "\n",
    "# Mostrar todos los valores enteros obtenidos\n",
    "valores_ordenados = sorted(valores)\n",
    "print(\"Todos los valores enteros posibles obtenidos son:\")\n",
    "print(\", \".join(map(str, valores_ordenados)))\n",
    "# Mostrar el conteo total de valores únicos\n",
    "print(\"Conteo total de valores únicos:\", len(valores))\n"
   ]
  },
  {
   "cell_type": "markdown",
   "metadata": {
    "id": "3_-exlrTgLd-"
   },
   "source": [
    "##  ¿Cuantas posibilidades hay sin tener en cuenta las restricciones?\n",
    "\n",
    "Si consideramos que hay 5 posiciones para números y 4 posiciones para operaciones, sin la restricción de que los números y operaciones sean diferentes, el cálculo sería:\n",
    "Para calcular el número total de posibilidades sin tener en cuenta las restricciones (es decir, permitiendo la repetición de números y operaciones), se debe considerar lo siguiente:\n",
    "\n",
    "Tenemos 9 posiciones para números.\n",
    "\n",
    "Tenemos 8 posiciones para operaciones (entre los 9 números).\n",
    "\n",
    "Dado que hay 4 posibles operaciones para cada una de las 8 posiciones y 9 posibles números para cada una de las 9 posiciones, el número total de combinaciones posibles es:\n",
    "\n",
    "combinaciones_numeros = 9**9\n",
    "\n",
    "combinaciones_operaciones = 4**8\n",
    "\n"
   ]
  },
  {
   "cell_type": "code",
   "execution_count": 4,
   "metadata": {},
   "outputs": [
    {
     "data": {
      "text/plain": [
       "25389989167104"
      ]
     },
     "execution_count": 4,
     "metadata": {},
     "output_type": "execute_result"
    }
   ],
   "source": [
    "# Calcular el número total de combinaciones posibles\n",
    "combinaciones_numeros = 9**9\n",
    "combinaciones_operaciones = 4**8\n",
    "\n",
    "total_combinaciones = combinaciones_numeros * combinaciones_operaciones\n",
    "total_combinaciones"
   ]
  },
  {
   "cell_type": "markdown",
   "metadata": {
    "id": "WfCUqJyKhPcw"
   },
   "source": [
    "## ¿Cuantas posibilidades hay teniendo en cuenta todas las restricciones?"
   ]
  },
  {
   "cell_type": "code",
   "execution_count": 4,
   "metadata": {
    "id": "WfCUqJyKhPcw"
   },
   "outputs": [
    {
     "name": "stdout",
     "output_type": "stream",
     "text": [
      "Conteo total de valores únicos: 147\n"
     ]
    }
   ],
   "source": [
    "'''Mostrar el conteo total de valores únicos '''\n",
    "\n",
    "print(\"Conteo total de valores únicos:\", len(valores))"
   ]
  },
  {
   "cell_type": "markdown",
   "metadata": {
    "id": "dzynfVJahHoY"
   },
   "source": [
    "## Modelo para el espacio de soluciones\n",
    "\n",
    "#### ¿Cual es la estructura de datos que mejor se adapta al problema? Argumentalo.(Es posible que hayas elegido una al principio y veas la necesidad de cambiar, arguentalo)\n"
   ]
  },
  {
   "cell_type": "markdown",
   "metadata": {
    "id": "xFIJrOwKi2Ti"
   },
   "source": [
    "Respuesta"
   ]
  },
  {
   "cell_type": "markdown",
   "metadata": {
    "id": "38c-7-ejhJmA"
   },
   "source": [
    "* Requisitos del Problema\n",
    "\n",
    "No repetir números ni operaciones: \n",
    "\n",
    "Necesitamos evaluar todas las permutaciones posibles de números y operaciones.\n",
    "Almacenar resultados únicos: Debemos almacenar únicamente los resultados enteros únicos.\n",
    "Acceso eficiente: Necesitamos agregar elementos y verificar la existencia de elementos de manera eficiente.\n",
    "\n",
    "\n",
    "* Justificación del Conjunto (set)\n",
    "\n",
    "El conjunto garantiza que cada valor se almacene solo una vez, eliminando automáticamente los duplicados. Esto es crucial para asegurar que solo tengamos resultados enteros únicos.\n",
    "\n",
    "Eficiencia: Las operaciones de agregar un elemento y verificar su existencia son O(1) en promedio. Esto es mucho más eficiente que usar una lista, donde estas operaciones serían O(n).\n",
    "\n",
    "Simplicidad: El uso de un conjunto simplifica el código, ya que no necesitamos escribir lógica adicional para manejar duplicados."
   ]
  },
  {
   "cell_type": "code",
   "execution_count": 12,
   "metadata": {
    "id": "xFIJrOwKi2Ti"
   },
   "outputs": [],
   "source": [
    "# Números del 1 al 9\n",
    "numeros = [1, 2, 3, 4, 5, 6, 7, 8, 9]\n",
    "\n",
    "# Operaciones básicas\n",
    "operaciones = ['+', '-', '*', '/']\n",
    "\n",
    "# Generar todas las permutaciones de los números y operaciones\n",
    "permutaciones_numeros = list(itertools.permutations(numeros))\n",
    "permutaciones_operaciones = list(itertools.permutations(operaciones, 4))\n"
   ]
  },
  {
   "cell_type": "markdown",
   "metadata": {
    "id": "7Z9U2W7bi-XS"
   },
   "source": [
    "## Según el modelo para el espacio de soluciones\n",
    "\n",
    "#### ¿Cual es la función objetivo?\n",
    "\n",
    "#### ¿Es un problema de maximización o minimización?"
   ]
  },
  {
   "cell_type": "markdown",
   "metadata": {
    "id": "hBalWLM7j1_d"
   },
   "source": [
    "Respuesta"
   ]
  },
  {
   "cell_type": "markdown",
   "metadata": {
    "id": "pDA-rg3Gj5Lz"
   },
   "source": [
    "La función objetivo sería encontrar y enumerar todos los valores enteros posibles que se pueden obtener mediante las combinaciones de los números del 1 al 9 y las operaciones básicas (+, -, *, /) bajo las restricciones de no repetir números ni operaciones.\n",
    "\n",
    "Definición de la Función Objetivo\n",
    "La función objetivo se puede formular como:\n",
    "\n",
    "* Maximizar{resultados enteros unicos}\n",
    "\n",
    "\n",
    "El objetivo específico es maximizar el número de resultados enteros únicos obtenidos, dado que:\n",
    "\n",
    "Números: Se deben usar 5 números distintos seleccionados de los 9 disponibles (1 al 9).\n",
    "\n",
    "Operaciones: Se deben usar 4 operaciones distintas seleccionadas de las 4 disponibles (+, -, *, /)."
   ]
  },
  {
   "cell_type": "code",
   "execution_count": 15,
   "metadata": {
    "id": "hBalWLM7j1_d"
   },
   "outputs": [
    {
     "name": "stdout",
     "output_type": "stream",
     "text": [
      "Valor Maximo:  77\n"
     ]
    }
   ],
   "source": [
    "# Encontrar el valor máximo\n",
    "valores = []\n",
    "for perm_numeros in permutaciones_numeros:\n",
    "    for perm_operaciones in permutaciones_operaciones:\n",
    "        valor = evaluar_expresion(perm_numeros, perm_operaciones)\n",
    "        if valor is not None and valor == int(valor):\n",
    "            valores.append(int(valor))\n",
    "\n",
    "valor_maximo = max(valores)\n",
    "\n",
    "print(\"Valor Maximo: \", valor_maximo)"
   ]
  },
  {
   "cell_type": "markdown",
   "metadata": {
    "id": "rlnTYgY1j6I2"
   },
   "source": [
    "## Diseña un algoritmo para resolver el problema por fuerza bruta"
   ]
  },
  {
   "cell_type": "markdown",
   "metadata": {
    "id": "70rDgxYXkC8r"
   },
   "source": [
    "Respuesta"
   ]
  },
  {
   "cell_type": "markdown",
   "metadata": {
    "id": "70rDgxYXkC8r"
   },
   "source": [
    "* Combinaciones posibles de 5 números seleccionados del conjunto {1, 2, 3, 4, 5, 6, 7, 8, 9}\n",
    "* Todas las permutaciones posibles de las 4 operaciones básicas {+, -, *, /}.\n",
    "* Luego, evaluamos todas las expresiones posibles y almacenamos los resultados enteros únicos."
   ]
  },
  {
   "cell_type": "code",
   "execution_count": 16,
   "metadata": {
    "id": "CJb5sQ0qkENy"
   },
   "outputs": [
    {
     "name": "stdout",
     "output_type": "stream",
     "text": [
      "Todos los valores enteros posibles obtenidos son:\n",
      "-69, -68, -67, -66, -65, -64, -63, -62, -61, -60, -59, -58, -57, -56, -55, -54, -53, -52, -51, -50, -49, -48, -47, -46, -45, -44, -43, -42, -41, -40, -39, -38, -37, -36, -35, -34, -33, -32, -31, -30, -29, -28, -27, -26, -25, -24, -23, -22, -21, -20, -19, -18, -17, -16, -15, -14, -13, -12, -11, -10, -9, -8, -7, -6, -5, -4, -3, -2, -1, 0, 1, 2, 3, 4, 5, 6, 7, 8, 9, 10, 11, 12, 13, 14, 15, 16, 17, 18, 19, 20, 21, 22, 23, 24, 25, 26, 27, 28, 29, 30, 31, 32, 33, 34, 35, 36, 37, 38, 39, 40, 41, 42, 43, 44, 45, 46, 47, 48, 49, 50, 51, 52, 53, 54, 55, 56, 57, 58, 59, 60, 61, 62, 63, 64, 65, 66, 67, 68, 69, 70, 71, 72, 73, 74, 75, 76, 77\n",
      "Conteo total de valores únicos: 147\n"
     ]
    }
   ],
   "source": [
    "# Números del 1 al 9\n",
    "numeros = [1, 2, 3, 4, 5, 6, 7, 8, 9]\n",
    "\n",
    "# Operaciones básicas\n",
    "operaciones = ['+', '-', '*', '/']\n",
    "\n",
    "# Generar todas las permutaciones de 5 números de 9\n",
    "permutaciones_numeros = list(itertools.permutations(numeros, 5))\n",
    "\n",
    "# Generar todas las permutaciones de las 4 operaciones\n",
    "permutaciones_operaciones = list(itertools.permutations(operaciones, 4))\n",
    "\n",
    "# Función para evaluar una expresión dada\n",
    "def evaluar_expresion(numeros, operaciones):\n",
    "    expresion = \"\"\n",
    "    for i in range(len(operaciones)):\n",
    "        expresion += str(numeros[i]) + operaciones[i]\n",
    "    expresion += str(numeros[-1])\n",
    "    try:\n",
    "        return eval(expresion)\n",
    "    except ZeroDivisionError:\n",
    "        return None\n",
    "\n",
    "# Encontrar todos los valores enteros posibles\n",
    "valores = set()  # Usamos un conjunto para almacenar resultados únicos\n",
    "for perm_numeros in permutaciones_numeros:\n",
    "    for perm_operaciones in permutaciones_operaciones:\n",
    "        valor = evaluar_expresion(perm_numeros, perm_operaciones)\n",
    "        if valor is not None and valor == int(valor):\n",
    "            valores.add(int(valor))  # Agregar valor al conjunto\n",
    "\n",
    "# Mostrar todos los valores enteros obtenidos\n",
    "valores_ordenados = sorted(valores)\n",
    "print(\"Todos los valores enteros posibles obtenidos son:\")\n",
    "print(\", \".join(map(str, valores_ordenados)))\n",
    "\n",
    "# Mostrar el conteo total de valores únicos\n",
    "print(\"Conteo total de valores únicos:\", len(valores))\n"
   ]
  },
  {
   "cell_type": "markdown",
   "metadata": {
    "id": "tgrnsC2nkFa8"
   },
   "source": [
    "## Calcula la complejidad del algoritmo por fuerza bruta"
   ]
  },
  {
   "cell_type": "markdown",
   "metadata": {
    "id": "9eUd3xwckP68"
   },
   "source": [
    "Respuesta"
   ]
  },
  {
   "cell_type": "markdown",
   "metadata": {
    "id": "rvZWwL-ckRST"
   },
   "source": [
    "### Cálculo de la Complejidad del Algoritmo por Fuerza Bruta\n",
    "\n",
    "Para calcular la complejidad del algoritmo por fuerza bruta, consideramos los siguientes factores:\n",
    "\n",
    "1. **Generación de Permutaciones de Números**:\n",
    "\n",
    "   Estamos generando permutaciones de 5 números seleccionados de un conjunto de 9 números. Esto tiene una complejidad combinatoria representada por \\( P(9, 5) = \\frac{9!}{(9-5)!} \\).\n",
    "\n",
    "3. **Generación de Permutaciones de Operaciones**:\n",
    "\n",
    "\n",
    "   Estamos generando permutaciones de 4 operaciones seleccionadas de un conjunto de 4 operaciones. Esto tiene una complejidad combinatoria representada por \\( 4! \\).\n",
    "\n",
    "   \n",
    "\n",
    "5. **Evaluación de Expresiones**:\n",
    "\n",
    "    Para cada combinación de números y operaciones, estamos construyendo y evaluando una expresión. La evaluación de una expresión aritmética es \\( O(1) \\) en términos de tiempo de ejecución, ya que implica una cantidad fija de operaciones.\n",
    "\n",
    "#### Cálculo de la Complejidad\n",
    "\n",
    "1. **Permutaciones de Números**:\n",
    "\n",
    "   P(9, 5) = \\frac{9!}{(9-5)!} = 9 \\times 8 \\times 7 \\times 6 \\times 5 =  15120\n",
    "  \n",
    "\n",
    "2. **Permutaciones de Operaciones**:\n",
    "\n",
    "   \n",
    "   \\[\n",
    "   4! = 24\n",
    "   \\]\n",
    "\n",
    "4. **Número Total de Combinaciones**:\n",
    "\n",
    "\n",
    "    El total de combinaciones de números y operaciones es el producto de las permutaciones de números y operaciones:\n",
    "   \\[\n",
    "   P(9, 5) \\times 4! = 15120 \\times 24 = 362880\n",
    "   \\]\n",
    "\n",
    "6. **Evaluación de Cada Combinación**:\n",
    "\n",
    "\n",
    "   Evaluamos cada una de las 362880 combinaciones de números y operaciones. La evaluación de cada expresión es \\( O(1) \\), por lo que no afecta significativamente la complejidad total.\n",
    "\n",
    "#### Complejidad Total\n",
    "\n",
    "La complejidad total del algoritmo es:\n",
    "\n",
    "\\[\n",
    "O(P(9, 5) \\times 4!) = O(362880)\n",
    "\\]\n",
    "\n",
    "Esto significa que el algoritmo tiene una complejidad factorial, que crece muy rápidamente con el aumento del tamaño del conjunto de números y operaciones.\n",
    "\n",
    "\n",
    "- La complejidad de generar todas las permutaciones de 5 números seleccionados de 9 es \\( O(15120) \\).\n",
    "- La complejidad de generar todas las permutaciones de 4 operaciones es \\( O(24) \\).\n",
    "- El número total de combinaciones es \\( O(362880) \\).\n",
    "- La evaluación de cada combinación es \\( O(1) \\).\n",
    "\n",
    "\n"
   ]
  },
  {
   "cell_type": "code",
   "execution_count": 19,
   "metadata": {
    "id": "hLrVwt5QkZPD"
   },
   "outputs": [
    {
     "name": "stdout",
     "output_type": "stream",
     "text": [
      "Permutaciones de números (9P5): 15120\n",
      "Permutaciones de operaciones (4!): 24\n",
      "Número total de combinaciones: 362880\n"
     ]
    }
   ],
   "source": [
    "# Cálculo de las permutaciones de 5 números seleccionados de 9\n",
    "P_numeros = math.perm(9, 5)\n",
    "\n",
    "# Cálculo de las permutaciones de 4 operaciones\n",
    "P_operaciones = math.perm(4, 4)\n",
    "\n",
    "# Número total de combinaciones\n",
    "total_combinaciones = P_numeros * P_operaciones\n",
    "\n",
    "# Mostrar resultados\n",
    "print(\"Permutaciones de números (9P5):\", P_numeros)\n",
    "print(\"Permutaciones de operaciones (4!):\", P_operaciones)\n",
    "print(\"Número total de combinaciones:\", total_combinaciones)\n",
    "\n",
    "# Verificar si es el mismo resultado calculado anteriormente\n",
    "assert total_combinaciones == 362880, \"El cálculo no coincide con el resultado esperado.\""
   ]
  },
  {
   "cell_type": "markdown",
   "metadata": {
    "id": "txbrmLmskReM"
   },
   "source": [
    "## Diseña un algoritmo que mejore la complejidad del algortimo por fuerza bruta. Argumenta porque crees que mejora el algoritmo por fuerza bruta"
   ]
  },
  {
   "cell_type": "markdown",
   "metadata": {
    "id": "hLrVwt5QkZPD"
   },
   "source": [
    "Respuesta"
   ]
  },
  {
   "cell_type": "markdown",
   "metadata": {
    "id": "m1eyM21Vkabg"
   },
   "source": [
    "Para mejorar la complejidad del algoritmo por fuerza bruta, podemos utilizar técnicas de programación dinámica o poda (pruning) para reducir el espacio de búsqueda. \n",
    "Tenemos a continuacion un enfoque basado en la poda del espacio de búsqueda y el uso de un almacenamiento intermedio para resultados parciales, lo que puede mejorar la eficiencia.\n",
    "\n",
    "La idea principal es reducir el número de combinaciones evaluadas mediante el uso de poda y almacenamiento intermedio de resultados parciales. Esto evita evaluaciones redundantes y reduce el espacio de búsqueda.\n",
    "\n",
    "Almacenamiento Intermedio (Memoización): Almacenar resultados parciales de subexpresiones para evitar recalcular resultados que ya se han evaluado.\n",
    "\n",
    "Poda (Pruning): Abandonar evaluaciones de subexpresiones que no pueden llevar a resultados válidos. Por ejemplo, si una subexpresión resulta en un número no entero o negativo (si solo buscamos positivos), se puede descartar.\n",
    "\n",
    "Algoritmo Mejorado\n",
    "\n",
    "Generar Combinaciones de Números y Operaciones: Usar una generación iterativa en lugar de permutaciones completas para poder aplicar poda.\n",
    "\n",
    "Evaluar Expresiones con Memoización: Utilizar un diccionario para almacenar y reutilizar resultados de subexpresiones.\n",
    "\n",
    "Poda del Espacio de Búsqueda: Abandonar ramas del espacio de búsqueda que no pueden llevar a soluciones válidas.\n"
   ]
  },
  {
   "cell_type": "code",
   "execution_count": 20,
   "metadata": {
    "id": "NhpTh_BPk1ms"
   },
   "outputs": [
    {
     "name": "stdout",
     "output_type": "stream",
     "text": [
      "Todos los valores enteros posibles obtenidos son:\n",
      "-69, -68, -67, -66, -65, -64, -63, -62, -61, -60, -59, -58, -57, -56, -55, -54, -53, -52, -51, -50, -49, -48, -47, -46, -45, -44, -43, -42, -41, -40, -39, -38, -37, -36, -35, -34, -33, -32, -31, -30, -29, -28, -27, -26, -25, -24, -23, -22, -21, -20, -19, -18, -17, -16, -15, -14, -13, -12, -11, -10, -9, -8, -7, -6, -5, -4, -3, -2, -1, 0, 1, 2, 3, 4, 5, 6, 7, 8, 9, 10, 11, 12, 13, 14, 15, 16, 17, 18, 19, 20, 21, 22, 23, 24, 25, 26, 27, 28, 29, 30, 31, 32, 33, 34, 35, 36, 37, 38, 39, 40, 41, 42, 43, 44, 45, 46, 47, 48, 49, 50, 51, 52, 53, 54, 55, 56, 57, 58, 59, 60, 61, 62, 63, 64, 65, 66, 67, 68, 69, 70, 71, 72, 73, 74, 75, 76, 77\n",
      "Conteo total de valores únicos: 147\n"
     ]
    }
   ],
   "source": [
    "\n",
    "# Números del 1 al 9\n",
    "numeros = [1, 2, 3, 4, 5, 6, 7, 8, 9]\n",
    "\n",
    "# Operaciones básicas\n",
    "operaciones = ['+', '-', '*', '/']\n",
    "\n",
    "# Generar todas las combinaciones de 5 números de 9\n",
    "combinaciones_numeros = list(itertools.combinations(numeros, 5))\n",
    "\n",
    "# Evaluar la expresión con memoización\n",
    "@lru_cache(None)\n",
    "def evaluar_expresion(numeros, operaciones):\n",
    "    expresion = \"\"\n",
    "    for i in range(len(operaciones)):\n",
    "        expresion += str(numeros[i]) + operaciones[i]\n",
    "    expresion += str(numeros[-1])\n",
    "    try:\n",
    "        resultado = eval(expresion)\n",
    "        if resultado == int(resultado):  # Solo consideramos resultados enteros\n",
    "            return int(resultado)\n",
    "    except ZeroDivisionError:\n",
    "        pass\n",
    "    return None\n",
    "\n",
    "# Encontrar todos los valores enteros posibles con poda\n",
    "valores = set()\n",
    "for comb_numeros in combinaciones_numeros:\n",
    "    for perm_numeros in itertools.permutations(comb_numeros):\n",
    "        for perm_operaciones in itertools.permutations(operaciones):\n",
    "            valor = evaluar_expresion(perm_numeros, perm_operaciones)\n",
    "            if valor is not None:\n",
    "                valores.add(valor)\n",
    "\n",
    "# Mostrar todos los valores enteros obtenidos\n",
    "valores_ordenados = sorted(valores)\n",
    "print(\"Todos los valores enteros posibles obtenidos son:\")\n",
    "print(\", \".join(map(str, valores_ordenados)))\n",
    "\n",
    "# Mostrar el conteo total de valores únicos\n",
    "print(\"Conteo total de valores únicos:\", len(valores))\n"
   ]
  },
  {
   "cell_type": "markdown",
   "metadata": {
    "id": "eGDB4K6uk1iN"
   },
   "source": [
    "## Calcula la complejidad del algoritmo"
   ]
  },
  {
   "cell_type": "markdown",
   "metadata": {
    "id": "NhpTh_BPk1ms"
   },
   "source": [
    "Respuesta"
   ]
  },
  {
   "cell_type": "markdown",
   "metadata": {
    "id": "nREzhkStlCq8"
   },
   "source": [
    "* Complejidad Total\n",
    "\n",
    "Para cada combinación de números y permutaciones de operaciones, la evaluación de la expresión se realiza una vez, gracias a la memoización. Así que la complejidad total es:\n",
    "\n",
    "O=(Combinaciones de Numeros×Permutaciones de Numeros×Permutaciones de Operaciones)\n",
    "\n",
    "O=(126×120×24)\n",
    "\n",
    "#### O = 362880\n",
    "\n",
    "Sin embargo, debido a la poda, la cantidad real de evaluaciones puede ser menor. La poda evita algunas evaluaciones, pero no cambia el orden de la complejidad en el peor de los casos. Entonces, en el peor de los casos, la complejidad sigue siendo \n",
    "\n",
    "O(362880)\n",
    "\n",
    "\n",
    "* Comparación con la Fuerza Bruta\n",
    "\n",
    "La complejidad del algoritmo de fuerza bruta también es \n",
    "\n",
    "O(362880)\n",
    "\n",
    "Pero el algoritmo mejorado es más eficiente en la práctica debido a la poda y memoización.\n",
    "\n",
    "La poda reduce el espacio de búsqueda al eliminar combinaciones no válidas tempranamente.\n",
    "\n",
    "La memoización evita recalcular resultados para subexpresiones, reduciendo el tiempo total de evaluación."
   ]
  },
  {
   "cell_type": "code",
   "execution_count": 21,
   "metadata": {
    "id": "Jc3_OlyNkvjZ"
   },
   "outputs": [
    {
     "name": "stdout",
     "output_type": "stream",
     "text": [
      "Permutaciones de números (9P5): 15120\n",
      "Permutaciones de operaciones (4!): 24\n",
      "Número total de combinaciones: 362880\n"
     ]
    }
   ],
   "source": [
    "# Cálculo de las permutaciones de 5 números seleccionados de 9\n",
    "def permutaciones_numeros(n, k):\n",
    "    return math.factorial(n) // math.factorial(n - k)\n",
    "\n",
    "# Cálculo de las permutaciones de 4 operaciones\n",
    "def permutaciones_operaciones(n):\n",
    "    return math.factorial(n)\n",
    "\n",
    "# Valores para el problema\n",
    "n_numeros = 9\n",
    "k_numeros = 5\n",
    "n_operaciones = 4\n",
    "\n",
    "# Cálculo de las permutaciones\n",
    "P_numeros = permutaciones_numeros(n_numeros, k_numeros)\n",
    "P_operaciones = permutaciones_operaciones(n_operaciones)\n",
    "\n",
    "# Número total de combinaciones\n",
    "total_combinaciones = P_numeros * P_operaciones\n",
    "\n",
    "# Mostrar resultados\n",
    "print(f\"Permutaciones de números (9P5): {P_numeros}\")\n",
    "print(f\"Permutaciones de operaciones (4!): {P_operaciones}\")\n",
    "print(f\"Número total de combinaciones: {total_combinaciones}\")"
   ]
  },
  {
   "cell_type": "markdown",
   "metadata": {
    "id": "3M6QjTsSkmYe"
   },
   "source": [
    "## Según el problema (y tenga sentido), diseña un juego de datos de entrada aleatorios"
   ]
  },
  {
   "cell_type": "markdown",
   "metadata": {
    "id": "Jc3_OlyNkvjZ"
   },
   "source": [
    "Respuesta"
   ]
  },
  {
   "cell_type": "code",
   "execution_count": 22,
   "metadata": {
    "id": "sJ-N2etjkyWc"
   },
   "outputs": [
    {
     "name": "stdout",
     "output_type": "stream",
     "text": [
      "Juego de datos 1: Números = [7, 6, 5, 2, 4], Operaciones = ['*', '/', '+', '-']\n",
      "Juego de datos 2: Números = [5, 1, 7, 8, 3], Operaciones = ['*', '/', '+', '-']\n",
      "Juego de datos 3: Números = [9, 2, 7, 4, 8], Operaciones = ['+', '*', '-', '/']\n",
      "Juego de datos 4: Números = [6, 7, 8, 9, 2], Operaciones = ['*', '-', '+', '/']\n",
      "Juego de datos 5: Números = [6, 9, 4, 3, 7], Operaciones = ['*', '/', '-', '+']\n",
      "Juego de datos 6: Números = [5, 3, 9, 2, 1], Operaciones = ['+', '*', '-', '/']\n",
      "Juego de datos 7: Números = [1, 4, 3, 2, 7], Operaciones = ['/', '*', '-', '+']\n",
      "Juego de datos 8: Números = [8, 2, 5, 9, 3], Operaciones = ['/', '+', '-', '*']\n",
      "Juego de datos 9: Números = [3, 2, 4, 6, 7], Operaciones = ['/', '-', '*', '+']\n",
      "Juego de datos 10: Números = [4, 2, 3, 7, 1], Operaciones = ['-', '/', '*', '+']\n"
     ]
    }
   ],
   "source": [
    "# Números del 1 al 9\n",
    "numeros = [1, 2, 3, 4, 5, 6, 7, 8, 9]\n",
    "\n",
    "# Operaciones básicas\n",
    "operaciones = ['+', '-', '*', '/']\n",
    "\n",
    "# Función para generar una combinación aleatoria de 5 números y 4 operaciones\n",
    "def generar_datos_aleatorios():\n",
    "    numeros_seleccionados = random.sample(numeros, 5)\n",
    "    operaciones_seleccionadas = random.sample(operaciones, 4)\n",
    "    return numeros_seleccionados, operaciones_seleccionadas\n",
    "\n",
    "# Generar datos de entrada aleatorios\n",
    "datos_aleatorios = [generar_datos_aleatorios() for _ in range(10)]\n",
    "\n",
    "# Mostrar los datos generados\n",
    "for i, (nums, ops) in enumerate(datos_aleatorios):\n",
    "    print(f\"Juego de datos {i+1}: Números = {nums}, Operaciones = {ops}\")\n"
   ]
  },
  {
   "cell_type": "markdown",
   "metadata": {
    "id": "zy5ZROmjlGo1"
   },
   "source": [
    "## Aplica el algoritmo al juego de datos generado"
   ]
  },
  {
   "cell_type": "markdown",
   "metadata": {
    "id": "_Cmj-PVylMsa"
   },
   "source": [
    "Respuesta"
   ]
  },
  {
   "cell_type": "code",
   "execution_count": 23,
   "metadata": {
    "id": "Jkx8GeiYlUz1"
   },
   "outputs": [
    {
     "name": "stdout",
     "output_type": "stream",
     "text": [
      "Juego de datos 1: Números = [5, 6, 4, 3, 1], Operaciones = ['/', '+', '-', '*']\n",
      "Juego de datos 2: Números = [9, 6, 7, 5, 2], Operaciones = ['/', '*', '+', '-']\n",
      "Juego de datos 3: Números = [7, 5, 9, 8, 6], Operaciones = ['/', '*', '-', '+']\n",
      "Juego de datos 4: Números = [7, 8, 5, 9, 2], Operaciones = ['/', '-', '+', '*']\n",
      "Juego de datos 5: Números = [6, 9, 5, 1, 4], Operaciones = ['-', '+', '*', '/']\n",
      "Juego de datos 6: Números = [3, 4, 6, 7, 1], Operaciones = ['/', '+', '-', '*']\n",
      "Juego de datos 7: Números = [2, 8, 4, 5, 7], Operaciones = ['-', '/', '*', '+']\n",
      "Juego de datos 8: Números = [7, 8, 6, 1, 2], Operaciones = ['+', '*', '/', '-']\n",
      "Juego de datos 9: Números = [3, 8, 4, 9, 1], Operaciones = ['+', '/', '-', '*']\n",
      "Juego de datos 10: Números = [1, 3, 2, 8, 6], Operaciones = ['+', '-', '*', '/']\n",
      "\n",
      "Resultados para el juego de datos 1:\n",
      "-23, -17, -16, -11, -9, -5, -2, -1, 1, 3, 4, 6, 7, 11, 12, 13, 17, 19, 21, 22, 23, 26, 29, 31\n",
      "Conteo total de valores únicos: 24\n",
      "\n",
      "Resultados para el juego de datos 2:\n",
      "-55, -35, -23, -15, -7, 1, 5, 9, 13, 17, 25, 29, 41, 49, 61, 65\n",
      "Conteo total de valores únicos: 16\n",
      "\n",
      "Resultados para el juego de datos 3:\n",
      "0, 10, 14\n",
      "Conteo total de valores únicos: 3\n",
      "\n",
      "Resultados para el juego de datos 4:\n",
      "-54, -34, -24, -22, -14, -4, 18, 22, 24, 30, 32, 34, 38, 40, 42, 48, 62, 64\n",
      "Conteo total de valores únicos: 18\n",
      "\n",
      "Resultados para el juego de datos 5:\n",
      "-45, -35, -25, -17, -10, -5, 0, 2, 10, 17, 20, 23, 25, 28, 35, 37, 43, 47, 53, 55\n",
      "Conteo total de valores únicos: 20\n",
      "\n",
      "Resultados para el juego de datos 6:\n",
      "-35, -25, -19, -14, -11, -9, -7, -4, -1, 0, 1, 2, 5, 6, 8, 9, 11, 13, 14, 15, 17, 19, 20, 21, 23, 25, 27, 28, 29, 31, 41, 43\n",
      "Conteo total de valores únicos: 32\n",
      "\n",
      "Resultados para el juego de datos 7:\n",
      "-49, -31, -27, -25, -19, -9, -7, -4, -1, 2, 3, 5, 6, 8, 9, 11, 14, 15, 17, 18, 23, 27, 29, 35, 41, 45, 53, 59\n",
      "Conteo total de valores únicos: 28\n",
      "\n",
      "Resultados para el juego de datos 8:\n",
      "-52, -48, -39, -37, -32, -21, -16, -12, -3, 0, 2, 3, 4, 5, 9, 11, 12, 13, 14, 15, 16, 17, 18, 23, 28, 30, 33, 36, 39, 43, 45, 48, 52, 53, 54, 58, 60\n",
      "Conteo total de valores únicos: 37\n",
      "\n",
      "Resultados para el juego de datos 9:\n",
      "-65, -28, -25, -24, -20, -19, -15, -14, -11, -4, -3, -2, -1, 4, 5, 7, 8, 9, 10, 11, 13, 14, 16, 19, 20, 21, 23, 26, 27, 28, 29, 30, 31, 34, 38, 41, 71, 73\n",
      "Conteo total de valores únicos: 38\n",
      "\n",
      "Resultados para el juego de datos 10:\n",
      "-43, -20, -16, -13, -8, -7, -6, -5, -4, -3, -2, -1, 0, 1, 2, 3, 4, 5, 7, 8, 11, 12, 13, 15, 16, 17, 19, 20, 21, 22, 24, 26, 28, 47, 49\n",
      "Conteo total de valores únicos: 35\n"
     ]
    }
   ],
   "source": [
    "import random\n",
    "import itertools\n",
    "from functools import lru_cache\n",
    "\n",
    "# Números del 1 al 9\n",
    "numeros = [1, 2, 3, 4, 5, 6, 7, 8, 9]\n",
    "\n",
    "# Operaciones básicas\n",
    "operaciones = ['+', '-', '*', '/']\n",
    "\n",
    "# Función para generar una combinación aleatoria de 5 números y 4 operaciones\n",
    "def generar_datos_aleatorios():\n",
    "    numeros_seleccionados = random.sample(numeros, 5)\n",
    "    operaciones_seleccionadas = random.sample(operaciones, 4)\n",
    "    return numeros_seleccionados, operaciones_seleccionadas\n",
    "\n",
    "# Generar datos de entrada aleatorios\n",
    "datos_aleatorios = [generar_datos_aleatorios() for _ in range(10)]\n",
    "\n",
    "# Mostrar los datos generados\n",
    "for i, (nums, ops) in enumerate(datos_aleatorios):\n",
    "    print(f\"Juego de datos {i+1}: Números = {nums}, Operaciones = {ops}\")\n",
    "\n",
    "# Evaluar la expresión con memoización\n",
    "@lru_cache(None)\n",
    "def evaluar_expresion(numeros, operaciones):\n",
    "    expresion = \"\"\n",
    "    for i in range(len(operaciones)):\n",
    "        expresion += str(numeros[i]) + operaciones[i]\n",
    "    expresion += str(numeros[-1])\n",
    "    try:\n",
    "        resultado = eval(expresion)\n",
    "        if resultado == int(resultado):  # Solo consideramos resultados enteros\n",
    "            return int(resultado)\n",
    "    except ZeroDivisionError:\n",
    "        pass\n",
    "    return None\n",
    "\n",
    "# Aplicar el algoritmo mejorado a cada conjunto de datos generados\n",
    "for i, (nums, ops) in enumerate(datos_aleatorios):\n",
    "    valores = set()\n",
    "    for perm_numeros in itertools.permutations(nums):\n",
    "        for perm_operaciones in itertools.permutations(ops):\n",
    "            valor = evaluar_expresion(perm_numeros, perm_operaciones)\n",
    "            if valor is not None:\n",
    "                valores.add(valor)\n",
    "    \n",
    "    # Mostrar todos los valores enteros obtenidos\n",
    "    valores_ordenados = sorted(valores)\n",
    "    print(f\"\\nResultados para el juego de datos {i+1}:\")\n",
    "    print(\", \".join(map(str, valores_ordenados)))\n",
    "    print(\"Conteo total de valores únicos:\", len(valores))\n"
   ]
  },
  {
   "cell_type": "markdown",
   "metadata": {
    "id": "eTFWUJQrtGcv"
   },
   "source": [
    "## Enumera las referencias que has utilizado(si ha sido necesario) para llevar a cabo el trabajo"
   ]
  },
  {
   "cell_type": "markdown",
   "metadata": {
    "id": "YKQ_mRBttWsP"
   },
   "source": [
    "Respuesta\n",
    "\n",
    "https://docs.python.org/3/library/itertools.html\n",
    "\n",
    "https://www.geeksforgeeks.org/python-functools-lru_cache/"
   ]
  },
  {
   "cell_type": "markdown",
   "metadata": {
    "id": "kAkDPUyRtYyH"
   },
   "source": [
    "## Describe brevemente las lineas de como crees que es posible avanzar en el estudio del problema. Ten en cuenta incluso posibles variaciones del problema y/o variaciones al alza del tamaño"
   ]
  },
  {
   "cell_type": "markdown",
   "metadata": {
    "id": "IE0uZmo-tZu-"
   },
   "source": [
    "Respuesta"
   ]
  },
  {
   "cell_type": "markdown",
   "metadata": {},
   "source": [
    "Considero que se deben tene en cuenta losmsiguientes facores\n",
    "\n",
    "1.\tEvaluación Exhaustiva: Utilizar el código proporcionado para realizar una evaluación exhaustiva y encontrar los valores máximos y mínimos posibles.\n",
    "2.\tOptimización y Poda: Aplicar técnicas de optimización y poda para mejorar la eficiencia del algoritmo.\n",
    "3.\tProgramación Dinámica y Heurísticas: Explorar enfoques de programación dinámica y heurísticas para problemas de mayor tamaño.\n",
    "4.\tVisualización de Resultados: Visualizar los resultados y analizar patrones para obtener información adicional sobre el problema.\n"
   ]
  },
  {
   "cell_type": "code",
   "execution_count": null,
   "metadata": {},
   "outputs": [],
   "source": []
  }
 ],
 "metadata": {
  "colab": {
   "provenance": []
  },
  "kernelspec": {
   "display_name": "Python 3 (ipykernel)",
   "language": "python",
   "name": "python3"
  },
  "language_info": {
   "codemirror_mode": {
    "name": "ipython",
    "version": 3
   },
   "file_extension": ".py",
   "mimetype": "text/x-python",
   "name": "python",
   "nbconvert_exporter": "python",
   "pygments_lexer": "ipython3",
   "version": "3.11.0"
  }
 },
 "nbformat": 4,
 "nbformat_minor": 4
}
